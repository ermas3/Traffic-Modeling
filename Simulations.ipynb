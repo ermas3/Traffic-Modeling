{
 "cells": [
  {
   "cell_type": "code",
   "execution_count": null,
   "metadata": {},
   "outputs": [],
   "source": []
  }
 ],
 "metadata": {
  "kernelspec": {
   "display_name": "Python 3.8.8 ('base')",
   "language": "python",
   "name": "python3"
  },
  "language_info": {
   "name": "python",
   "version": "3.8.8"
  },
  "orig_nbformat": 4,
  "vscode": {
   "interpreter": {
    "hash": "2d692fe9405e4b92159365ff4fdf361297768db5a718f8d6403619c1bbda7cad"
   }
  }
 },
 "nbformat": 4,
 "nbformat_minor": 2
}
